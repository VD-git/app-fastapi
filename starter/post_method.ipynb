{
 "cells": [
  {
   "cell_type": "code",
   "execution_count": 1,
   "id": "246ba40d-36bc-43cb-bc01-707950de150a",
   "metadata": {},
   "outputs": [],
   "source": [
    "import requests\n",
    "import json"
   ]
  },
  {
   "cell_type": "code",
   "execution_count": 3,
   "id": "c6dd0f36-18f5-4eae-9f9c-8c11603833c3",
   "metadata": {},
   "outputs": [],
   "source": [
    "url = \"https://fastapi-application-gl4h.onrender.com/prediction/\""
   ]
  },
  {
   "cell_type": "code",
   "execution_count": 4,
   "id": "ae991b34-edf2-4b37-9a8b-192ab84a2b77",
   "metadata": {},
   "outputs": [],
   "source": [
    "payload = {\n",
    "    \"age\": 39,\n",
    "    \"workclass\": \"State-gov\",\n",
    "    \"fnlgt\": 77516,\n",
    "    \"education\": \"Bachelors\",\n",
    "    \"educationnum\": 13,\n",
    "    \"maritalstatus\": \"Never-married\",\n",
    "    \"occupation\": \"Adm-clerical\",\n",
    "    \"relationship\": \"Not-in-family\",\n",
    "    \"race\": \"White\",\n",
    "    \"sex\": \"Male\",\n",
    "    \"capitalgain\": 21740,\n",
    "    \"capitalloss\": 0,\n",
    "    \"hoursperweek\": 40,\n",
    "    \"nativecountry\": \"United-States\"\n",
    "}"
   ]
  },
  {
   "cell_type": "code",
   "execution_count": null,
   "id": "d2cd1182-1f20-435a-bafb-b057c946b297",
   "metadata": {},
   "outputs": [],
   "source": [
    "requests.post(url, json.dumps(payload))"
   ]
  },
  {
   "cell_type": "code",
   "execution_count": null,
   "id": "5bb74910-85a2-4933-8f99-ca7960bf1a41",
   "metadata": {},
   "outputs": [],
   "source": []
  }
 ],
 "metadata": {
  "kernelspec": {
   "display_name": "Python 3 (ipykernel)",
   "language": "python",
   "name": "python3"
  },
  "language_info": {
   "codemirror_mode": {
    "name": "ipython",
    "version": 3
   },
   "file_extension": ".py",
   "mimetype": "text/x-python",
   "name": "python",
   "nbconvert_exporter": "python",
   "pygments_lexer": "ipython3",
   "version": "3.8.18"
  }
 },
 "nbformat": 4,
 "nbformat_minor": 5
}
