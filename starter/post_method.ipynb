{
 "cells": [
  {
   "cell_type": "markdown",
   "id": "df4e8bbd-9488-4ef3-b8ef-1809b675ca67",
   "metadata": {},
   "source": [
    "000. Importing Libraries"
   ]
  },
  {
   "cell_type": "code",
   "execution_count": 1,
   "id": "246ba40d-36bc-43cb-bc01-707950de150a",
   "metadata": {},
   "outputs": [],
   "source": [
    "import requests\n",
    "import json"
   ]
  },
  {
   "cell_type": "code",
   "execution_count": 2,
   "id": "c6dd0f36-18f5-4eae-9f9c-8c11603833c3",
   "metadata": {},
   "outputs": [],
   "source": [
    "url = \"https://fastapi-application-gl4h.onrender.com/prediction\""
   ]
  },
  {
   "cell_type": "markdown",
   "id": "a3f23ab3-6579-465e-a917-d88c2ee709b0",
   "metadata": {},
   "source": [
    "001. Testing GET Method of Render"
   ]
  },
  {
   "cell_type": "code",
   "execution_count": 3,
   "id": "9b7fee89-4bfc-4e40-bb9f-ddb9230cbe9d",
   "metadata": {},
   "outputs": [
    {
     "data": {
      "text/plain": [
       "{'greeting': 'Hello Mate Gabriel!'}"
      ]
     },
     "execution_count": 3,
     "metadata": {},
     "output_type": "execute_result"
    }
   ],
   "source": [
    "requests.get(\"https://fastapi-application-gl4h.onrender.com\").json()"
   ]
  },
  {
   "cell_type": "markdown",
   "id": "fd6067aa-7d41-4c26-8172-e4c07a4e68ae",
   "metadata": {},
   "source": [
    "002. Testing POST Method of Render"
   ]
  },
  {
   "cell_type": "code",
   "execution_count": 4,
   "id": "ae991b34-edf2-4b37-9a8b-192ab84a2b77",
   "metadata": {},
   "outputs": [],
   "source": [
    "payload = {\n",
    "    \"age\": 39, \"workclass\": \"State-gov\", \"fnlgt\": 77516,\n",
    "    \"education\": \"Bachelors\", \"education-num\": 13, \"marital-status\": \"Never-married\",\n",
    "    \"occupation\": \"Adm-clerical\", \"relationship\": \"Not-in-family\", \"race\": \"White\",\n",
    "    \"sex\": \"Male\", \"capital-gain\": 21740, \"capital-loss\": 0, \"hours-per-week\": 40,\n",
    "    \"native-country\": \"United-States\"\n",
    "}"
   ]
  },
  {
   "cell_type": "code",
   "execution_count": 5,
   "id": "81bb4f5d-d089-444d-b8c3-631bfc7b3e67",
   "metadata": {},
   "outputs": [
    {
     "data": {
      "text/plain": [
       "<Response [200]>"
      ]
     },
     "execution_count": 5,
     "metadata": {},
     "output_type": "execute_result"
    }
   ],
   "source": [
    "requests.post(url, json.dumps(payload))"
   ]
  },
  {
   "cell_type": "code",
   "execution_count": 6,
   "id": "d2cd1182-1f20-435a-bafb-b057c946b297",
   "metadata": {},
   "outputs": [
    {
     "data": {
      "text/plain": [
       "{'response': 1}"
      ]
     },
     "execution_count": 6,
     "metadata": {},
     "output_type": "execute_result"
    }
   ],
   "source": [
    "requests.post(url, json.dumps(payload)).json()"
   ]
  },
  {
   "cell_type": "code",
   "execution_count": 7,
   "id": "5bb74910-85a2-4933-8f99-ca7960bf1a41",
   "metadata": {},
   "outputs": [],
   "source": [
    "payload = {\n",
    "    \"age\": 39, \"workclass\": \"State-gov\", \"fnlgt\": 77516,\n",
    "    \"education\": \"Bachelors\", \"education-num\": 13, \"marital-status\": \"Never-married\",\n",
    "    \"occupation\": \"Adm-clerical\", \"relationship\": \"Not-in-family\", \"race\": \"White\",\n",
    "    \"sex\": \"Male\", \"capital-gain\": 2174, \"capital-loss\": 0, \"hours-per-week\": 40,\n",
    "    \"native-country\": \"United-States\"\n",
    "}"
   ]
  },
  {
   "cell_type": "code",
   "execution_count": 8,
   "id": "2c2d9762-510d-4b82-8c39-68abe8e5d214",
   "metadata": {},
   "outputs": [
    {
     "data": {
      "text/plain": [
       "<Response [200]>"
      ]
     },
     "execution_count": 8,
     "metadata": {},
     "output_type": "execute_result"
    }
   ],
   "source": [
    "requests.post(url, json.dumps(payload))"
   ]
  },
  {
   "cell_type": "code",
   "execution_count": 9,
   "id": "212442d9-ada9-412c-9a45-a9390d95a2b8",
   "metadata": {},
   "outputs": [
    {
     "data": {
      "text/plain": [
       "{'response': 0}"
      ]
     },
     "execution_count": 9,
     "metadata": {},
     "output_type": "execute_result"
    }
   ],
   "source": [
    "requests.post(url, json.dumps(payload)).json()"
   ]
  }
 ],
 "metadata": {
  "kernelspec": {
   "display_name": "Python 3 (ipykernel)",
   "language": "python",
   "name": "python3"
  },
  "language_info": {
   "codemirror_mode": {
    "name": "ipython",
    "version": 3
   },
   "file_extension": ".py",
   "mimetype": "text/x-python",
   "name": "python",
   "nbconvert_exporter": "python",
   "pygments_lexer": "ipython3",
   "version": "3.8.18"
  }
 },
 "nbformat": 4,
 "nbformat_minor": 5
}
